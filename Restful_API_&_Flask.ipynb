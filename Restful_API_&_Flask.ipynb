{
  "nbformat": 4,
  "nbformat_minor": 0,
  "metadata": {
    "colab": {
      "provenance": []
    },
    "kernelspec": {
      "name": "python3",
      "display_name": "Python 3"
    },
    "language_info": {
      "name": "python"
    }
  },
  "cells": [
    {
      "cell_type": "markdown",
      "source": [
        "#  Restful API & Flask\n",
        "\n",
        "1. What is a RESTful API?\n",
        "-  A RESTful API is an application programming interface that follows the principles of Representational State Transfer (REST), using HTTP methods to perform CRUD (Create, Read, Update, Delete) operations on resources identified by URLs.\n",
        "\n",
        "2. Explain the concept of API specification.\n",
        "-  An API specification is a document or standard that defines how an API should behave, including endpoints, request/response formats, parameters, authentication methods, and error handling. Examples include OpenAPI (Swagger).\n",
        "\n",
        "3. What is Flask, and why is it popular for building APIs?\n",
        "-  Flask is a lightweight Python web framework that is easy to learn, flexible, and has minimal setup. It’s popular because it allows rapid development, supports extensions, and is well-suited for building RESTful APIs.\n",
        "\n",
        "4. What is routing in Flask?\n",
        "-  Routing in Flask is the process of mapping URLs to specific Python functions (called view functions) that handle requests and return responses.\n",
        "\n",
        "5. How do you create a simple Flask application?"
      ],
      "metadata": {
        "id": "JNM4bY3baj08"
      }
    },
    {
      "cell_type": "code",
      "source": [
        "from flask import Flask\n",
        "app = Flask(__name__)\n",
        "\n",
        "@app.route('/')\n",
        "def home():\n",
        "    return \"Hello, Flask!\"\n",
        "\n",
        "if __name__ == '__main__':\n",
        "    app.run(debug=True)\n"
      ],
      "metadata": {
        "id": "KElB3WiFgoXy"
      },
      "execution_count": null,
      "outputs": []
    },
    {
      "cell_type": "markdown",
      "source": [
        "6. What are HTTP methods used in RESTful APIs?\n",
        "-  Common methods include:\n",
        "\n",
        " -  GET (Retrieve data)\n",
        "\n",
        " - POST (Create new data)\n",
        "\n",
        " - PUT (Update existing data)\n",
        "\n",
        " - DELETE (Remove data)\n",
        "\n",
        " - PATCH (Partial update)\n",
        "\n",
        "7. What is the purpose of the @app.route() decorator in Flask?\n",
        "-  It binds a function to a specific URL route, defining what should happen when that URL is accessed.\n",
        "\n",
        "8. What is the difference between GET and POST HTTP methods?\n",
        "\n",
        "- - GET: Retrieves data, parameters are in the URL, safe and idempotent.\n",
        "\n",
        " - POST: Sends data to create/update resources, parameters are in the request body.\n",
        "\n",
        "9. How do you handle errors in Flask APIs?\n",
        "-  Using @app.errorhandler() or Flask’s built-in error handling to return custom error messages and HTTP status codes.\n",
        "\n",
        "10. How do you connect Flask to a SQL database?\n",
        "-  By using extensions like Flask-SQLAlchemy or directly connecting with libraries like sqlite3 or psycopg2.\n",
        "\n",
        "11. What is the role of Flask-SQLAlchemy?\n",
        "-  It provides an Object Relational Mapper (ORM) for Flask, making it easier to interact with SQL databases using Python classes.\n",
        "\n",
        "12. What are Flask blueprints, and how are they useful?\n",
        "-  Blueprints allow you to organize Flask applications into smaller, modular components for better structure and reusability.\n",
        "\n",
        "13. What is the purpose of Flask's request object?\n",
        "-  The request object holds data about the HTTP request, such as form data, query parameters, headers, and JSON body.\n",
        "\n",
        "14. How do you create a RESTful API endpoint using Flask?\n",
        "-  By defining a route with a function that processes requests and returns JSON responses."
      ],
      "metadata": {
        "id": "-yW9t6SzgvDt"
      }
    },
    {
      "cell_type": "code",
      "source": [
        "@app.route('/api/data', methods=['GET'])\n",
        "def get_data():\n",
        "    return jsonify({\"message\": \"Success\"})\n"
      ],
      "metadata": {
        "id": "RshE33rthwtW"
      },
      "execution_count": null,
      "outputs": []
    },
    {
      "cell_type": "markdown",
      "source": [
        "15. What is the purpose of Flask's jsonify() function?\n",
        "-  It converts Python dictionaries/lists into JSON responses with correct headers.\n",
        "\n",
        "16. Explain Flask’s url_for() function.\n",
        "-  Generates URLs for routes by function name, making URL management easier.\n",
        "Example: url_for('home') → /\n",
        "\n",
        "17. How does Flask handle static files (CSS, JavaScript, etc.)?\n",
        "-  By default, static files are placed in a static/ folder and served via url_for('static', filename='file.css').\n",
        "\n",
        "18. What is an API specification, and how does it help in building a Flask API?\n",
        "-  It’s a documented plan that defines endpoints, methods, parameters, and formats, ensuring consistent API design and easier collaboration.\n",
        "\n",
        "19. What are HTTP status codes, and why are they important in a Flask API?\n",
        "They indicate the result of an HTTP request (e.g., 200 OK, 404 Not Found, 500 Server Error) and help clients understand responses.\n",
        "\n",
        "20. How do you handle POST requests in Flask?\n",
        "-  By checking the request method and accessing form/JSON data from request.form or request.json.\n",
        "\n",
        "21. How would you secure a Flask API?\n",
        "-  By using HTTPS, authentication (JWT, OAuth), rate limiting, input validation, and avoiding sensitive data exposure.\n",
        "\n",
        "22. What is the significance of the Flask-RESTful extension?\n",
        "-  It simplifies building RESTful APIs by providing tools like Resource classes, request parsing, and automatic JSON responses.\n",
        "\n",
        "23. What is the role of Flask’s session object?\n",
        "-  It stores data across requests for a user, such as login information, using signed cookies."
      ],
      "metadata": {
        "id": "2lGaBbJuhzsP"
      }
    },
    {
      "cell_type": "markdown",
      "source": [
        "1. How do you create a basic Flask application."
      ],
      "metadata": {
        "id": "sx6fEO5Qidpv"
      }
    },
    {
      "cell_type": "code",
      "source": [
        "from flask import Flask\n",
        "app = Flask(__name__)\n",
        "\n",
        "@app.route('/')\n",
        "def home():\n",
        "    return \"Hello, Flask!\"\n",
        "\n",
        "if __name__ == '__main__':\n",
        "    app.run(debug=True)\n"
      ],
      "metadata": {
        "id": "XaZ0wDGHitoh"
      },
      "execution_count": null,
      "outputs": []
    },
    {
      "cell_type": "markdown",
      "source": [
        "2. How do you serve static files like images or CSS in Flask.\n",
        "\n",
        " - Place files inside a static/ folder.\n",
        "\n",
        " - Access using:"
      ],
      "metadata": {
        "id": "vZ0Z5P-Qizct"
      }
    },
    {
      "cell_type": "code",
      "source": [
        "<img src=\"{{ url_for('static', filename='image.png') }}\">\n",
        "<link rel=\"stylesheet\" href=\"{{ url_for('static', filename='style.css') }}\">\n"
      ],
      "metadata": {
        "id": "7kQhxWzXjJ7g"
      },
      "execution_count": null,
      "outputs": []
    },
    {
      "cell_type": "markdown",
      "source": [
        "3. How do you define different routes with different HTTP methods in Flask.\n"
      ],
      "metadata": {
        "id": "G-tyfTcdjUK_"
      }
    },
    {
      "cell_type": "code",
      "source": [
        "@app.route('/submit', methods=['GET', 'POST'])\n",
        "def submit():\n",
        "    if request.method == 'POST':\n",
        "        return \"Data submitted\"\n",
        "    return \"Submit Form\"\n"
      ],
      "metadata": {
        "id": "7BXva1AKjdVI"
      },
      "execution_count": null,
      "outputs": []
    },
    {
      "cell_type": "markdown",
      "source": [
        "4. How do you render HTML templates in Flask.\n",
        "\n",
        " - Place HTML files inside a templates/ folder.\n",
        "\n",
        " - Use render_template:"
      ],
      "metadata": {
        "id": "8FjDJfqAjiOo"
      }
    },
    {
      "cell_type": "code",
      "source": [
        "from flask import render_template\n",
        "@app.route('/about')\n",
        "def about():\n",
        "    return render_template('about.html')\n"
      ],
      "metadata": {
        "id": "Km3gkimpj3tE"
      },
      "execution_count": null,
      "outputs": []
    },
    {
      "cell_type": "markdown",
      "source": [
        "5. How can you generate URLs for routes in Flask using url_for."
      ],
      "metadata": {
        "id": "9Hiw7Iu_lDsU"
      }
    },
    {
      "cell_type": "code",
      "source": [
        "url_for('home')  # Generates '/'\n",
        "url_for('about') # Generates '/about'\n"
      ],
      "metadata": {
        "id": "qOTyDFonlRnC"
      },
      "execution_count": null,
      "outputs": []
    },
    {
      "cell_type": "markdown",
      "source": [
        "6. How do you handle forms in Flask."
      ],
      "metadata": {
        "id": "Fl8HfOeflUz8"
      }
    },
    {
      "cell_type": "code",
      "source": [
        "@app.route('/login', methods=['GET', 'POST'])\n",
        "def login():\n",
        "    if request.method == 'POST':\n",
        "        username = request.form['username']\n",
        "        return f\"Welcome {username}\"\n",
        "    return render_template('login.html')\n"
      ],
      "metadata": {
        "id": "5OsWdFMdlk3m"
      },
      "execution_count": null,
      "outputs": []
    },
    {
      "cell_type": "markdown",
      "source": [
        "7. How can you validate form data in Flask."
      ],
      "metadata": {
        "id": "SwJAISJIltCC"
      }
    },
    {
      "cell_type": "code",
      "source": [
        "if not username or not password:\n",
        "    return \"Invalid input\"\n"
      ],
      "metadata": {
        "id": "LBP4r0EBl8Gw"
      },
      "execution_count": null,
      "outputs": []
    },
    {
      "cell_type": "markdown",
      "source": [
        "8. How do you manage sessions in Flask."
      ],
      "metadata": {
        "id": "2UZcJAUJmG5J"
      }
    },
    {
      "cell_type": "code",
      "source": [
        "from flask import session\n",
        "app.secret_key = 'mysecret'\n",
        "\n",
        "@app.route('/set')\n",
        "def set_session():\n",
        "    session['username'] = 'John'\n",
        "    return \"Session set\"\n",
        "\n",
        "@app.route('/get')\n",
        "def get_session():\n",
        "    return session.get('username', 'Guest')\n"
      ],
      "metadata": {
        "id": "ghmrYdpbmZcs"
      },
      "execution_count": null,
      "outputs": []
    },
    {
      "cell_type": "markdown",
      "source": [
        "9. How do you redirect to a different route in Flask."
      ],
      "metadata": {
        "id": "KWNYqbNtmeVJ"
      }
    },
    {
      "cell_type": "code",
      "source": [
        "from flask import redirect\n",
        "return redirect(url_for('home'))\n"
      ],
      "metadata": {
        "id": "3qo0m4c7mnZR"
      },
      "execution_count": null,
      "outputs": []
    },
    {
      "cell_type": "markdown",
      "source": [
        "10. How do you handle errors in Flask (e.g., 404)."
      ],
      "metadata": {
        "id": "O2f299Aimp46"
      }
    },
    {
      "cell_type": "code",
      "source": [
        "@app.errorhandler(404)\n",
        "def not_found(e):\n",
        "    return \"Page Not Found\", 404\n"
      ],
      "metadata": {
        "id": "8hUb6OnwmyLX"
      },
      "execution_count": null,
      "outputs": []
    },
    {
      "cell_type": "markdown",
      "source": [
        "11. How do you structure a Flask app using Blueprints."
      ],
      "metadata": {
        "id": "yQiYSOntm1pG"
      }
    },
    {
      "cell_type": "markdown",
      "source": [
        "- user.py (Blueprint file)"
      ],
      "metadata": {
        "id": "FJZG_-2GnOPJ"
      }
    },
    {
      "cell_type": "code",
      "source": [
        "from flask import Blueprint\n",
        "user_bp = Blueprint('user', __name__)\n",
        "\n",
        "@user_bp.route('/profile')\n",
        "def profile():\n",
        "    return \"User Profile\"\n"
      ],
      "metadata": {
        "id": "9Y8yT5dbnQl6"
      },
      "execution_count": null,
      "outputs": []
    },
    {
      "cell_type": "markdown",
      "source": [
        "-  Main app"
      ],
      "metadata": {
        "id": "m7nBvbKAnVJ0"
      }
    },
    {
      "cell_type": "code",
      "source": [
        "from user import user_bp\n",
        "app.register_blueprint(user_bp)\n"
      ],
      "metadata": {
        "id": "DyvJzlM7nbKr"
      },
      "execution_count": null,
      "outputs": []
    },
    {
      "cell_type": "markdown",
      "source": [
        "12. How do you define a custom Jinja filter in Flask."
      ],
      "metadata": {
        "id": "AJ2ycne2nj5k"
      }
    },
    {
      "cell_type": "code",
      "source": [
        "@app.template_filter('reverse')\n",
        "def reverse_filter(s):\n",
        "    return s[::-1]\n"
      ],
      "metadata": {
        "id": "Ze2Lpac5n4r-"
      },
      "execution_count": null,
      "outputs": []
    },
    {
      "cell_type": "markdown",
      "source": [
        "13. How can you redirect with query parameters in Flask.\n"
      ],
      "metadata": {
        "id": "J1W8ogeQn-WP"
      }
    },
    {
      "cell_type": "markdown",
      "source": [
        "-  You can redirect with query parameters using redirect() and url_for(), passing the parameters as keyword arguments."
      ],
      "metadata": {
        "id": "9Obho92Zqfdx"
      }
    },
    {
      "cell_type": "code",
      "source": [
        "from flask import Flask, redirect, url_for\n",
        "\n",
        "app = Flask(__name__)\n",
        "\n",
        "@app.route('/')\n",
        "def home():\n",
        "    return \"Home Page\"\n",
        "\n",
        "@app.route('/go')\n",
        "def go():\n",
        "    # Redirect to 'home' with query parameters\n",
        "    return redirect(url_for('home', name='John', age=25))\n",
        "\n",
        "if __name__ == '__main__':\n",
        "    app.run(debug=True)\n",
        "\n"
      ],
      "metadata": {
        "id": "r4758GjdoRzv"
      },
      "execution_count": null,
      "outputs": []
    },
    {
      "cell_type": "markdown",
      "source": [
        "- Explanation:\n",
        "\n",
        " - url_for('home', name='John', age=25) → /home?name=John&age=25\n",
        "\n",
        " - redirect() sends the user to that generated URL."
      ],
      "metadata": {
        "id": "8Bd-vFIHqm2C"
      }
    },
    {
      "cell_type": "markdown",
      "source": [
        "14. How do you return JSON responses in Flask."
      ],
      "metadata": {
        "id": "Jfqgscd_oVyI"
      }
    },
    {
      "cell_type": "code",
      "source": [
        "from flask import jsonify\n",
        "@app.route('/data')\n",
        "def data():\n",
        "    return jsonify({\"name\": \"John\", \"age\": 30})\n",
        ""
      ],
      "metadata": {
        "id": "4aY_g0Y4ohI_"
      },
      "execution_count": null,
      "outputs": []
    },
    {
      "cell_type": "markdown",
      "source": [
        "15. How do you capture URL parameters in Flask?"
      ],
      "metadata": {
        "id": "gnRAjX5jo8SG"
      }
    },
    {
      "cell_type": "code",
      "source": [
        "@app.route('/user/<username>')\n",
        "def show_user(username):\n",
        "    return f\"Hello {username}\"\n"
      ],
      "metadata": {
        "id": "H44G9wvapDaV"
      },
      "execution_count": null,
      "outputs": []
    }
  ]
}